{
 "cells": [
  {
   "cell_type": "markdown",
   "metadata": {},
   "source": [
    "## Train decision tree"
   ]
  },
  {
   "cell_type": "code",
   "execution_count": 84,
   "metadata": {},
   "outputs": [],
   "source": [
    "import pandas as pd\n",
    "import numpy as np\n",
    "from sklearn.tree import DecisionTreeClassifier\n",
    "import matplotlib.pyplot as plt\n",
    "\n",
    "# plt.figure(figsize=[10,10])\n",
    "\n",
    "\n",
    "df_data = pd.read_csv(R\".\\in\\disease-symptom_preprocessed2.csv\", index_col=0)\n",
    "# print(df_data.loc['asthma'])\n",
    "# merge shortness of breath and dyspnea \n",
    "df_data['shortness of breath'] = (df_data['dyspnea'] + df_data['shortness of breath']).clip(lower=0, upper=1)\n",
    "df_data = df_data.drop(columns='dyspnea')\n",
    "df_data = df_data.drop(columns='night sweat')\n",
    "df_data = df_data.drop(columns='cystic lesion')\n",
    "df_data = df_data.drop(columns='night sweat')\n",
    "df_data = df_data.drop(index='TOTAL')\n",
    "# print(df_data.loc['failure heart congestive'])\n",
    "\n",
    "X = df_data.to_numpy()\n",
    "\n",
    "# y = df_data.index.to_list()\n",
    "y = list(range(len(df_data.index.to_list())))  # 0 - 400\n",
    "# print(y)\n",
    "clf = DecisionTreeClassifier(criterion='entropy', random_state=0).fit(X, y)\n",
    "\n",
    "feature_names = df_data.columns.to_list()\n",
    "\n",
    "class_names = df_data.index.to_list()\n",
    "# print(class_names[7])\n",
    "# print(list(zip(feature_names,X[7])))\n"
   ]
  },
  {
   "cell_type": "code",
   "execution_count": 85,
   "metadata": {},
   "outputs": [
    {
     "data": {
      "text/plain": [
       "array([7])"
      ]
     },
     "execution_count": 85,
     "metadata": {},
     "output_type": "execute_result"
    }
   ],
   "source": [
    "clf.predict([X[7]])"
   ]
  },
  {
   "cell_type": "markdown",
   "metadata": {},
   "source": [
    "## Visualize tree\n",
    "Todo: make graphical visualization"
   ]
  },
  {
   "cell_type": "markdown",
   "metadata": {},
   "source": [
    "from sklearn.tree import plot_tree\n",
    "plt.figure(figsize=[10,10])\n",
    "plot_tree(clf, fontsize=10)\n",
    "fig = plt.gcf()\n",
    "fig.savefig('tree.png')\n"
   ]
  },
  {
   "cell_type": "markdown",
   "metadata": {},
   "source": [
    "remove extraneous info using method from here https://stackoverflow.com/questions/44821349/python-graphviz-remove-legend-on-nodes-of-decisiontreeclassifier"
   ]
  },
  {
   "cell_type": "code",
   "execution_count": 86,
   "metadata": {},
   "outputs": [],
   "source": [
    "from sklearn.tree import export_graphviz\n",
    "import pydot\n",
    "import re\n",
    "\n",
    "d = None  # max depth\n",
    "\n",
    "export_graphviz(clf, \n",
    "                out_file=f'out/tree{d}.dot', \n",
    "                impurity=False, \n",
    "                feature_names=feature_names,\n",
    "                class_names=class_names,\n",
    "                max_depth=d)\n",
    "\n",
    "PATH = f'out/tree{d}.dot'\n",
    "f = pydot.graph_from_dot_file(PATH)[0].to_string()\n",
    "# print(len(f), '\\n', f[:1000])\n",
    "# todo: modify this regex \n",
    "f = re.sub(r'(\\\\nvalue = \\[.*?\\])', '', f)  # get rid of nvalue = [anychar, lazy]\n",
    "f = f.replace(' <= 0.5', '?')  # change decision to a question\n",
    "f = f.replace('headlabel=\"True\"', 'headlabel=\"No\"')  # change to yes no rather than <=0.5 true false\n",
    "f = f.replace('headlabel=\"False\"', 'headlabel=\"Yes\"')\n",
    "f = f.replace(R'samples = 1\\nclass = ', R'***\\n')  # change text of leaf node\n",
    "# print(\"============================\")\n",
    "# print(len(f), '\\n', f[:1000])\n",
    "\n",
    "with open(f'out/tree_modified{d}.dot', 'w') as file:\n",
    "    file.write(f)"
   ]
  },
  {
   "cell_type": "code",
   "execution_count": 87,
   "metadata": {},
   "outputs": [
    {
     "data": {
      "text/html": [
       "<img src=\"out\\tree_modifiedNone.dot.png\"/>"
      ],
      "text/plain": [
       "<IPython.core.display.Image object>"
      ]
     },
     "execution_count": 87,
     "metadata": {},
     "output_type": "execute_result"
    }
   ],
   "source": [
    "import graphviz\n",
    "from IPython.display import Image\n",
    "savepath = graphviz.render('dot', 'png', f'out/tree_modified{d}.dot')\n",
    "\n",
    "Image(url=savepath)\n",
    "# This gives a pretty good representation of the tree"
   ]
  },
  {
   "cell_type": "markdown",
   "metadata": {},
   "source": [
    "from sklearn.tree.export import export_text\n",
    "\n",
    "r = export_text(decision_tree, feature_names=df_data.columns.to_list())\n",
    "print(r)"
   ]
  }
 ],
 "metadata": {
  "kernelspec": {
   "display_name": "Python 3",
   "language": "python",
   "name": "python3"
  },
  "language_info": {
   "codemirror_mode": {
    "name": "ipython",
    "version": 3
   },
   "file_extension": ".py",
   "mimetype": "text/x-python",
   "name": "python",
   "nbconvert_exporter": "python",
   "pygments_lexer": "ipython3",
   "version": "3.6.5"
  }
 },
 "nbformat": 4,
 "nbformat_minor": 2
}
